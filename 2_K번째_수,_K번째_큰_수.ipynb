{
  "nbformat": 4,
  "nbformat_minor": 0,
  "metadata": {
    "colab": {
      "name": "2. K번째 수, K번째 큰 수",
      "provenance": [],
      "authorship_tag": "ABX9TyMTMyG1QBWoMwdPobDJXQeY",
      "include_colab_link": true
    },
    "kernelspec": {
      "name": "python3",
      "display_name": "Python 3"
    }
  },
  "cells": [
    {
      "cell_type": "markdown",
      "metadata": {
        "id": "view-in-github",
        "colab_type": "text"
      },
      "source": [
        "<a href=\"https://colab.research.google.com/github/jejec0703/TIL/blob/master/2_K%EB%B2%88%EC%A7%B8_%EC%88%98%2C_K%EB%B2%88%EC%A7%B8_%ED%81%B0_%EC%88%98.ipynb\" target=\"_parent\"><img src=\"https://colab.research.google.com/assets/colab-badge.svg\" alt=\"Open In Colab\"/></a>"
      ]
    },
    {
      "cell_type": "markdown",
      "metadata": {
        "id": "BocLJLpLEDIY",
        "colab_type": "text"
      },
      "source": [
        "# 2. k번째 수"
      ]
    },
    {
      "cell_type": "markdown",
      "metadata": {
        "id": "lFJMUdA_yeM7",
        "colab_type": "text"
      },
      "source": [
        "- N개의 숫자로 이루어진 숫자열이 주어지면 해당 숫자열중에서 s번째부터 e번째 까지의 수를 오름 차순 정렬했을 때 k번째로 나타나는 숫자를 출력하는 프로그램을 작성하세요.  \n",
        "- 첫 번째 줄에 테스트 케이스 T(1<=T<=10)이 주어집니다. 각 케이스별 첫 번째 줄은 자연수 N(5<=N<=500), s, e, k가 차례로 주어진다. 두 번째 줄에 N개의 숫자가 차례로 주어진다."
      ]
    },
    {
      "cell_type": "code",
      "metadata": {
        "id": "-F4MkzFk1s-o",
        "colab_type": "code",
        "colab": {}
      },
      "source": [
        "''' input.txt\n",
        "2\n",
        "6 2 5 3\n",
        "5 2 7 3 8 9\n",
        "15 3 10 3\n",
        "4 15 8 16 6 6 17 3 10 11 18 7 14 7 15'''"
      ],
      "execution_count": null,
      "outputs": []
    },
    {
      "cell_type": "code",
      "metadata": {
        "id": "4LrgMIJ0z0Ky",
        "colab_type": "code",
        "colab": {
          "base_uri": "https://localhost:8080/",
          "height": 140
        },
        "outputId": "a5ea6f58-dfa0-4cf4-846c-aea6bf9e5b72"
      },
      "source": [
        "T = int(input())\n",
        "for t in range(T):\n",
        "  n, s, e, k = map(int, input().split())\n",
        "  num_list = list(map(int, input().split()))\n",
        "  num_list = num_list[s-1:e]\n",
        "  num_list.sort()\n",
        "  print('#', t+1, num_list[k-1])"
      ],
      "execution_count": 16,
      "outputs": [
        {
          "output_type": "stream",
          "text": [
            "2\n",
            "6 2 5 3\n",
            "5 2 7 3 8 9\n",
            "# 1 7\n",
            "15 3 10 3\n",
            "4 15 8 16 6 6 17 3 10 11 18 7 14 7 15\n",
            "# 2 6\n"
          ],
          "name": "stdout"
        }
      ]
    },
    {
      "cell_type": "markdown",
      "metadata": {
        "id": "5BUzOBlhEHPg",
        "colab_type": "text"
      },
      "source": [
        "#3. k번째 큰 수"
      ]
    },
    {
      "cell_type": "markdown",
      "metadata": {
        "id": "P_8UUhMHEJks",
        "colab_type": "text"
      },
      "source": [
        "- 현수는 1부터 100사이의 자연수가 적힌 N장의 카드를 가지고 있습니다. 같은 숫자의 카드가 여러장 있을 수 있습니다. 현수는 이 중 3장을 뽑아 각 카드에 적힌 수를 합한 값을 기록하려 고 합니다. 3장을 뽑을 수 있는 모든 경우를 기록합니다. 기록한 값 중 K번째로 큰 수를 출력 하는 프로그램을 작성하세요. 만약 큰 수부터 만들어진 수가 25 25 23 23 22 20 19......이고 K값이 3이라면 K번째 큰 값 은 22입니다."
      ]
    },
    {
      "cell_type": "markdown",
      "metadata": {
        "id": "QrNAo72lF5kE",
        "colab_type": "text"
      },
      "source": [
        "- 입력 : 첫 줄에 자연수 N(3<=N<=100)과 K(1<=K<=50) 입력되고, 그 다음 줄에 N개의 카드값이 입력 된다"
      ]
    },
    {
      "cell_type": "markdown",
      "metadata": {
        "id": "kLuGxObiHnRK",
        "colab_type": "text"
      },
      "source": [
        "- 출력 : 첫 줄에 K번째 수를 출력합니다. K번째 수는 반드시 존재합니다.\n"
      ]
    },
    {
      "cell_type": "code",
      "metadata": {
        "id": "RV33MROcFzaY",
        "colab_type": "code",
        "colab": {}
      },
      "source": [
        "'''\n",
        "10 3\n",
        "13 15 34 23 45 65 33 11 26 42'''\n",
        "\n",
        "'''\n",
        "143\n",
        "'''"
      ],
      "execution_count": null,
      "outputs": []
    },
    {
      "cell_type": "code",
      "metadata": {
        "id": "pkU3rOPYF1LI",
        "colab_type": "code",
        "colab": {
          "base_uri": "https://localhost:8080/",
          "height": 70
        },
        "outputId": "df8a7a37-43cf-4093-d17b-e6fc960b8f66"
      },
      "source": [
        "n, k = map(int, input().split())\n",
        "num_list = list(map(int, input().split()))\n",
        "res = set()\n",
        "for i in range(n):\n",
        "  for j in range(i+1, n):\n",
        "    for m in range(j+1, n):\n",
        "      res.add(num_list[i] + num_list[j] + num_list[m])\n",
        "res = list(res)\n",
        "res.sort(reverse=True)\n",
        "print(res[k-1])"
      ],
      "execution_count": 21,
      "outputs": [
        {
          "output_type": "stream",
          "text": [
            "10 3\n",
            "13 15 34 23 45 65 33 11 26 42\n",
            "143\n"
          ],
          "name": "stdout"
        }
      ]
    },
    {
      "cell_type": "markdown",
      "metadata": {
        "id": "8LXG1ZeIMoZx",
        "colab_type": "text"
      },
      "source": [
        "## 최소값 구하기"
      ]
    },
    {
      "cell_type": "code",
      "metadata": {
        "id": "xxa25wxwQEG5",
        "colab_type": "code",
        "colab": {}
      },
      "source": [
        "arr = [5, 3, 7, 9, 2, 5, 2, 6]"
      ],
      "execution_count": 24,
      "outputs": []
    },
    {
      "cell_type": "code",
      "metadata": {
        "id": "APGM9M9cNnnU",
        "colab_type": "code",
        "colab": {
          "base_uri": "https://localhost:8080/",
          "height": 34
        },
        "outputId": "60d381a1-bc8e-45c2-9750-8ada7fc464cc"
      },
      "source": [
        "### 1 ###\n",
        "arrMin = min(arr)\n",
        "arrMin"
      ],
      "execution_count": 25,
      "outputs": [
        {
          "output_type": "execute_result",
          "data": {
            "text/plain": [
              "2"
            ]
          },
          "metadata": {
            "tags": []
          },
          "execution_count": 25
        }
      ]
    },
    {
      "cell_type": "code",
      "metadata": {
        "id": "ROw5GvLtQA2_",
        "colab_type": "code",
        "colab": {
          "base_uri": "https://localhost:8080/",
          "height": 34
        },
        "outputId": "ba09dae5-be49-423f-8f2b-9b5897a89b13"
      },
      "source": [
        "### 2 ###\n",
        "arrMin = float('inf')\n",
        "for i in range(len(arr)):\n",
        "  if arr[i] < arrMin:\n",
        "    arrMin = arr[i]\n",
        "print(arrMin)"
      ],
      "execution_count": 29,
      "outputs": [
        {
          "output_type": "stream",
          "text": [
            "2\n"
          ],
          "name": "stdout"
        }
      ]
    },
    {
      "cell_type": "code",
      "metadata": {
        "id": "bLq9TdvOQQEn",
        "colab_type": "code",
        "colab": {
          "base_uri": "https://localhost:8080/",
          "height": 34
        },
        "outputId": "790e8049-bd2e-40df-d1ec-61c806947362"
      },
      "source": [
        "### 3 ###\n",
        "arrMin = arr[0]\n",
        "for i in range(len(arr)):\n",
        "  if arr[i] < arrMin:\n",
        "    arrMin = arr[i]\n",
        "print(arrMin)"
      ],
      "execution_count": 30,
      "outputs": [
        {
          "output_type": "stream",
          "text": [
            "2\n"
          ],
          "name": "stdout"
        }
      ]
    },
    {
      "cell_type": "code",
      "metadata": {
        "id": "T7A682Q_QL4B",
        "colab_type": "code",
        "colab": {
          "base_uri": "https://localhost:8080/",
          "height": 34
        },
        "outputId": "41cbed41-9aff-4f95-cd94-dd47a1d15ed6"
      },
      "source": [
        "### 4 ###\n",
        "arrMin = float('inf')\n",
        "for x in arr:\n",
        "  if x < arrMin:\n",
        "    arrMin = x\n",
        "print(arrMin)"
      ],
      "execution_count": 32,
      "outputs": [
        {
          "output_type": "stream",
          "text": [
            "2\n"
          ],
          "name": "stdout"
        }
      ]
    }
  ]
}