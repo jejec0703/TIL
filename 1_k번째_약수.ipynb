{
  "nbformat": 4,
  "nbformat_minor": 0,
  "metadata": {
    "colab": {
      "name": "1. k번째 약수",
      "provenance": [],
      "authorship_tag": "ABX9TyNAbQb2H4Xf+0YffNk9Dwq8",
      "include_colab_link": true
    },
    "kernelspec": {
      "name": "python3",
      "display_name": "Python 3"
    }
  },
  "cells": [
    {
      "cell_type": "markdown",
      "metadata": {
        "id": "view-in-github",
        "colab_type": "text"
      },
      "source": [
        "<a href=\"https://colab.research.google.com/github/jejec0703/TIL/blob/master/1_k%EB%B2%88%EC%A7%B8_%EC%95%BD%EC%88%98.ipynb\" target=\"_parent\"><img src=\"https://colab.research.google.com/assets/colab-badge.svg\" alt=\"Open In Colab\"/></a>"
      ]
    },
    {
      "cell_type": "markdown",
      "metadata": {
        "id": "kEV-94a9_385",
        "colab_type": "text"
      },
      "source": [
        "- 두 개의 자연수 N과 K가 주어졌을 때, N의 약수들 중 K번째로 작은 수를 출력하는 프로그램을 작성하시오.  \n",
        "- 첫째 줄에 N과 K가 빈칸을 사이에 두고 주어진다. N은 1 이상 10,000 이하이다. K는 1 이상 N 이하이다.  \n",
        "- 첫째 줄에 N의 약수들 중 K번째로 작은 수를 출력한다. 만일 N의 약수의 개수가 K개보다 적어서 K번째 약수가 존재하지 않을 경우에는 -1을 출력하시오."
      ]
    },
    {
      "cell_type": "code",
      "metadata": {
        "id": "Ga9BP9g2HiP1",
        "colab_type": "code",
        "colab": {
          "base_uri": "https://localhost:8080/",
          "height": 52
        },
        "outputId": "ecb8d44b-f0d2-4f92-deb5-aa016b12a011"
      },
      "source": [
        "n, k = map(int, input().split()) ### 두개를 묶을 때 map ###\n",
        "cnt = 0\n",
        "for i in range(1, n+1):\n",
        "  if n%i == 0:\n",
        "    cnt += 1\n",
        "  if cnt == k:\n",
        "    print(i)\n",
        "    break\n",
        "else:\n",
        "  print(-1)"
      ],
      "execution_count": null,
      "outputs": [
        {
          "output_type": "stream",
          "text": [
            "3 3\n",
            "-1\n"
          ],
          "name": "stdout"
        }
      ]
    }
  ]
}