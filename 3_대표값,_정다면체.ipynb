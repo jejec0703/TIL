{
  "nbformat": 4,
  "nbformat_minor": 0,
  "metadata": {
    "colab": {
      "name": "3. 대표값, 정다면체",
      "provenance": [],
      "authorship_tag": "ABX9TyPsHtGnhcGl914OVZagyvOe",
      "include_colab_link": true
    },
    "kernelspec": {
      "name": "python3",
      "display_name": "Python 3"
    }
  },
  "cells": [
    {
      "cell_type": "markdown",
      "metadata": {
        "id": "view-in-github",
        "colab_type": "text"
      },
      "source": [
        "<a href=\"https://colab.research.google.com/github/jejec0703/TIL/blob/master/3_%EB%8C%80%ED%91%9C%EA%B0%92%2C_%EC%A0%95%EB%8B%A4%EB%A9%B4%EC%B2%B4.ipynb\" target=\"_parent\"><img src=\"https://colab.research.google.com/assets/colab-badge.svg\" alt=\"Open In Colab\"/></a>"
      ]
    },
    {
      "cell_type": "markdown",
      "metadata": {
        "id": "2IL9L-I49dQZ",
        "colab_type": "text"
      },
      "source": [
        "- N명의 학생의 수학성적이 주어집니다. N명의 학생들의 평균(소수 첫째자리 반올림)을 구하고, N명의 학생 중 평균에 가장 가까운 학생은 몇 번째 학생인지 출력하는 프로그램을 작성하세 요. 답이 2개일 경우 성적이 높은 학생의 번호를 출력하세요. 만약 답이 되는 점수가 여러 개일 경우 번호가 빠른 학생의 번호를 답으로 한다."
      ]
    },
    {
      "cell_type": "markdown",
      "metadata": {
        "id": "mhy_CyB3A8fR",
        "colab_type": "text"
      },
      "source": [
        "- 입력설명  \n",
        "첫줄에 자연수 N(5<=N<=100)이 주어지고, 두 번째 줄에는 N개의 자연수가 주어진다. 학생의 번호는 앞에서부터 1로 시작해서 N까지이다."
      ]
    },
    {
      "cell_type": "markdown",
      "metadata": {
        "id": "19EY1FzHBCEW",
        "colab_type": "text"
      },
      "source": [
        "- 출력설명  \n",
        "첫줄에 평균과 평균에 가장 가까운 학생의 번호를 출력한다. 평균은 소수 첫째 자리에서 반올림합니다."
      ]
    },
    {
      "cell_type": "code",
      "metadata": {
        "id": "bIihyN5aBQuH",
        "colab_type": "code",
        "colab": {}
      },
      "source": [
        "'''\n",
        "10\n",
        "45 73 66 87 92 67 75 79 75 8\n",
        "'''"
      ],
      "execution_count": null,
      "outputs": []
    },
    {
      "cell_type": "code",
      "metadata": {
        "id": "tTM271fTywei",
        "colab_type": "code",
        "colab": {
          "base_uri": "https://localhost:8080/",
          "height": 52
        },
        "outputId": "3ff79082-e76a-4d0e-b7f5-390165544a5a"
      },
      "source": [
        "n = list(map(int, input().split()))\n",
        "mean = round((sum(n)/len(n)))\n",
        "min = float('inf')\n",
        "for i, x in enumerate(n):\n",
        "    tmp = abs(x - mean)\n",
        "    if tmp < min:\n",
        "      min = tmp\n",
        "      score = x\n",
        "      res = i+1\n",
        "    elif tmp == min:\n",
        "      if x > score:\n",
        "         score = x\n",
        "         res = i+1\n",
        "print(mean, res)"
      ],
      "execution_count": 19,
      "outputs": [
        {
          "output_type": "stream",
          "text": [
            "45 73 66 87 92 67 75 79 75 8\n",
            "67 6\n"
          ],
          "name": "stdout"
        }
      ]
    },
    {
      "cell_type": "markdown",
      "metadata": {
        "id": "N0R3iUSbCykM",
        "colab_type": "text"
      },
      "source": [
        "- 두 개의 정 N면체와 정 M면체의 두 개의 주사위를 던져서 나올 수 있는 눈의 합 중 가장 확 률이 높은 숫자를 출력하는 프로그램을 작성하세요. 정답이 여러 개일 경우 오름차순으로 출력합니다.\n"
      ]
    },
    {
      "cell_type": "markdown",
      "metadata": {
        "id": "DBK9aeW_C3fC",
        "colab_type": "text"
      },
      "source": [
        "- 입력설명  \n",
        "첫 번째 줄에는 자연수 N과 M이 주어집니다. N과 M은 4, 6, 8, 12, 20 중의 하나입니다"
      ]
    },
    {
      "cell_type": "code",
      "metadata": {
        "id": "dpN1MPrlC-Wx",
        "colab_type": "code",
        "colab": {}
      },
      "source": [
        "'''\n",
        "4 6\n",
        "'''"
      ],
      "execution_count": null,
      "outputs": []
    },
    {
      "cell_type": "code",
      "metadata": {
        "id": "iL5It767C_oC",
        "colab_type": "code",
        "colab": {
          "base_uri": "https://localhost:8080/",
          "height": 52
        },
        "outputId": "98a79fd5-7c65-4869-bc6b-6d0b902122cd"
      },
      "source": [
        "import numpy as np\n",
        "\n",
        "n, m = map(int, input().split())\n",
        "cnt = [0]*(n+m+3)\n",
        "for i in range(1, n+1):\n",
        "  for j in range(1, m+1):\n",
        "    cnt[i+j] += 1\n",
        "max = float('-inf')\n",
        "for i in range(n+m+1):\n",
        "  if cnt[i] > max:\n",
        "    max = cnt[i]\n",
        "for i in range(n+m+1):\n",
        "  if cnt[i] == max:\n",
        "   print(i, end = ' ')\n",
        "    \n",
        "    "
      ],
      "execution_count": 39,
      "outputs": [
        {
          "output_type": "stream",
          "text": [
            "4 6\n",
            "5 6 7 "
          ],
          "name": "stdout"
        }
      ]
    }
  ]
}