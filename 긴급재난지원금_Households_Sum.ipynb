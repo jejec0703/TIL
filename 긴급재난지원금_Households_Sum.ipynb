{
  "nbformat": 4,
  "nbformat_minor": 0,
  "metadata": {
    "colab": {
      "name": "긴급재난지원금_Huseholds_Sum",
      "provenance": [],
      "authorship_tag": "ABX9TyN5oYGAw8A5sLWLCY+ZQdi1",
      "include_colab_link": true
    },
    "kernelspec": {
      "name": "python3",
      "display_name": "Python 3"
    }
  },
  "cells": [
    {
      "cell_type": "markdown",
      "metadata": {
        "id": "view-in-github",
        "colab_type": "text"
      },
      "source": [
        "<a href=\"https://colab.research.google.com/github/jejec0703/TIL/blob/master/%EA%B8%B4%EA%B8%89%EC%9E%AC%EB%82%9C%EC%A7%80%EC%9B%90%EA%B8%88_Huseholds_Sum.ipynb\" target=\"_parent\"><img src=\"https://colab.research.google.com/assets/colab-badge.svg\" alt=\"Open In Colab\"/></a>"
      ]
    },
    {
      "cell_type": "markdown",
      "metadata": {
        "id": "D8gWL_htoi7J",
        "colab_type": "text"
      },
      "source": [
        "### Dacon 제주 신용카드 경진대회 분석용\n",
        "추가 데이터 정리"
      ]
    },
    {
      "cell_type": "code",
      "metadata": {
        "id": "nZaUhGMPcH6G",
        "colab_type": "code",
        "colab": {
          "resources": {
            "http://localhost:8080/nbextensions/google.colab/files.js": {
              "data": "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",
              "ok": true,
              "headers": [
                [
                  "content-type",
                  "application/javascript"
                ]
              ],
              "status": 200,
              "status_text": ""
            }
          },
          "base_uri": "https://localhost:8080/",
          "height": 93
        },
        "outputId": "d03530d2-dff5-45f0-df23-90e1f20e1aaa"
      },
      "source": [
        "from google.colab import files\n",
        "uploaded = files.upload()"
      ],
      "execution_count": null,
      "outputs": [
        {
          "output_type": "display_data",
          "data": {
            "text/html": [
              "\n",
              "     <input type=\"file\" id=\"files-4ed9a4a9-cd09-4ced-8e7a-9b44d87c7a95\" name=\"files[]\" multiple disabled\n",
              "        style=\"border:none\" />\n",
              "     <output id=\"result-4ed9a4a9-cd09-4ced-8e7a-9b44d87c7a95\">\n",
              "      Upload widget is only available when the cell has been executed in the\n",
              "      current browser session. Please rerun this cell to enable.\n",
              "      </output>\n",
              "      <script src=\"/nbextensions/google.colab/files.js\"></script> "
            ],
            "text/plain": [
              "<IPython.core.display.HTML object>"
            ]
          },
          "metadata": {
            "tags": []
          }
        },
        {
          "output_type": "stream",
          "text": [
            "Saving SIDO_SUBSIDIES_(DAILY).csv to SIDO_SUBSIDIES_(DAILY).csv\n"
          ],
          "name": "stdout"
        }
      ]
    },
    {
      "cell_type": "code",
      "metadata": {
        "id": "R48N3_RcfuaG",
        "colab_type": "code",
        "colab": {
          "base_uri": "https://localhost:8080/",
          "height": 35
        },
        "outputId": "3232e367-d15c-4f21-bdfe-fc416eed3ec7"
      },
      "source": [
        "%pwd"
      ],
      "execution_count": null,
      "outputs": [
        {
          "output_type": "execute_result",
          "data": {
            "application/vnd.google.colaboratory.intrinsic": {
              "type": "string"
            },
            "text/plain": [
              "'/content'"
            ]
          },
          "metadata": {
            "tags": []
          },
          "execution_count": 37
        }
      ]
    },
    {
      "cell_type": "code",
      "metadata": {
        "id": "CNw0cJ0yi50o",
        "colab_type": "code",
        "colab": {
          "base_uri": "https://localhost:8080/",
          "height": 1000
        },
        "outputId": "136c4650-b1f5-4fc1-d94c-01f78137cba0"
      },
      "source": [
        "path = '/content/SIDO_SUBSIDIES_(DAILY).csv'\n",
        "with open(path, 'r', encoding='euc-kr') as f:\n",
        "  buf = f.read()\n",
        "  print(buf)"
      ],
      "execution_count": null,
      "outputs": [
        {
          "output_type": "stream",
          "text": [
            "REG_YYMMDD,CARD_SIDO_NM,HOUSEHOLDS_DAILY\n",
            "20200511,서울,399881\n",
            ",부산,109374\n",
            ",대구,85133\n",
            ",인천,107629\n",
            ",광주,51739\n",
            ",대전,60489\n",
            ",울산,40333\n",
            ",세종,15389\n",
            ",경기,476546\n",
            ",강원,45776\n",
            ",충북,53131\n",
            ",충남,72276\n",
            ",전북,47557\n",
            ",전남,42580\n",
            ",경북,79372\n",
            ",경남,98087\n",
            ",제주,22423\n",
            "20200512,서울,830958\n",
            ",부산,227672\n",
            ",대구,174843\n",
            ",인천,222296\n",
            ",광주,107631\n",
            ",대전,125763\n",
            ",울산,83759\n",
            ",세종,31953\n",
            ",경기,991454\n",
            ",강원,95940\n",
            ",충북,111298\n",
            ",충남,151399\n",
            ",전북,98763\n",
            ",전남,89361\n",
            ",경북,164182\n",
            ",경남,204884\n",
            ",제주,47089\n",
            "20200513,서울,1265292\n",
            ",부산,346493\n",
            ",대구,262931\n",
            ",인천,336120\n",
            ",광주,164369\n",
            ",대전,191401\n",
            ",울산,127745\n",
            ",세종,48376\n",
            ",경기,1505353\n",
            ",강원,146759\n",
            ",충북,170269\n",
            ",충남,231821\n",
            ",전북,150672\n",
            ",전남,137370\n",
            ",경북,249997\n",
            ",경남,314123\n",
            ",제주,72327\n",
            "20200514,서울,1722575\n",
            ",부산,474727\n",
            ",대구,357408\n",
            ",인천,456370\n",
            ",광주,224246\n",
            ",대전,260946\n",
            ",울산,174857\n",
            ",세종,65801\n",
            ",경기,2043528\n",
            ",강원,200157\n",
            ",충북,233170\n",
            ",충남,317268\n",
            ",전북,207104\n",
            ",전남,189157\n",
            ",경북,342734\n",
            ",경남,430991\n",
            ",제주,100208\n",
            "20200515,서울,2194805\n",
            ",부산,610020\n",
            ",대구,454408\n",
            ",인천,582480\n",
            ",광주,286417\n",
            ",대전,333409\n",
            ",울산,224315\n",
            ",세종,83525\n",
            ",경기,2597831\n",
            ",강원,257344\n",
            ",충북,299217\n",
            ",충남,408083\n",
            ",전북,267150\n",
            ",전남,244859\n",
            ",경북,441554\n",
            ",경남,556436\n",
            ",제주,129579\n",
            "20200516,서울,2447128\n",
            ",부산,688765\n",
            ",대구,504337\n",
            ",인천,721942\n",
            ",광주,318035\n",
            ",대전,374722\n",
            ",울산,252361\n",
            ",세종,92386\n",
            ",경기,3041822\n",
            ",강원,297234\n",
            ",충북,341579\n",
            ",충남,462039\n",
            ",전북,300918\n",
            ",전남,281796\n",
            ",경북,498628\n",
            ",경남,633438\n",
            ",제주,144691\n",
            "20200518,서울,2650545\n",
            ",부산,760770\n",
            ",대구,546446\n",
            ",인천,708450\n",
            ",광주,348355\n",
            ",대전,411970\n",
            ",울산,281532\n",
            ",세종,99428\n",
            ",경기,3195654\n",
            ",강원,328934\n",
            ",충북,376654\n",
            ",충남,516592\n",
            ",전북,343030\n",
            ",전남,323440\n",
            ",경북,566638\n",
            ",경남,716713\n",
            ",제주,164718\n",
            "20200521,서울,2902765\n",
            ",부산,855168\n",
            ",대구,599283\n",
            ",인천,774439\n",
            ",광주,385380\n",
            ",대전,469426\n",
            ",울산,316751\n",
            ",세종,107843\n",
            ",경기,3533897\n",
            ",강원,376859\n",
            ",충북,428423\n",
            ",충남,585479\n",
            ",전북,399113\n",
            ",전남,376287\n",
            ",경북,658551\n",
            ",경남,831836\n",
            ",제주,191802\n",
            "20200523,서울,2954513\n",
            ",부산,879687\n",
            ",대구,610100\n",
            ",인천,787515\n",
            ",광주,392527\n",
            ",대전,482733\n",
            ",울산,323180\n",
            ",세종,109571\n",
            ",경기,3620960\n",
            ",강원,386212\n",
            ",충북,438325\n",
            ",충남,598733\n",
            ",전북,410323\n",
            ",전남,387017\n",
            ",경북,675225\n",
            ",경남,853417\n",
            ",제주,197780\n",
            "20200524,서울,2962307\n",
            ",부산,882121\n",
            ",대구,611294\n",
            ",인천,788994\n",
            ",광주,393458\n",
            ",대전,483871\n",
            ",울산,323778\n",
            ",세종,109875\n",
            ",경기,3637201\n",
            ",강원,387073\n",
            ",충북,439239\n",
            ",충남,599878\n",
            ",전북,411376\n",
            ",전남,388174\n",
            ",경북,676387\n",
            ",경남,855180\n",
            ",제주,198235\n",
            "20200525,서울,2987621\n",
            ",부산,892912\n",
            ",대구,615763\n",
            ",인천,795207\n",
            ",광주,397002\n",
            ",대전,490049\n",
            ",울산,326516\n",
            ",세종,110648\n",
            ",경기,3684326\n",
            ",강원,391610\n",
            ",충북,443736\n",
            ",충남,605452\n",
            ",전북,417430\n",
            ",전남,393771\n",
            ",경북,683205\n",
            ",경남,864421\n",
            ",제주,200992\n",
            "20200526,서울,3002601\n",
            ",부산,898939\n",
            ",대구,618457\n",
            ",인천,798696\n",
            ",광주,399089\n",
            ",대전,493436\n",
            ",울산,327930\n",
            ",세종,111181\n",
            ",경기,3713149\n",
            ",강원,393902\n",
            ",충북,446197\n",
            ",충남,608415\n",
            ",전북,420655\n",
            ",전남,396854\n",
            ",경북,686579\n",
            ",경남,869105\n",
            ",제주,202630\n",
            "20200527,서울,3012877\n",
            ",부산,903007\n",
            ",대구,620159\n",
            ",인천,801148\n",
            ",광주,400461\n",
            ",대전,495769\n",
            ",울산,328892\n",
            ",세종,111499\n",
            ",경기,3733387\n",
            ",강원,395448\n",
            ",충북,447819\n",
            ",충남,610460\n",
            ",전북,422967\n",
            ",전남,399031\n",
            ",경북,688818\n",
            ",경남,872073\n",
            ",제주,203626\n",
            "20200528,서울,3020134\n",
            ",부산,905855\n",
            ",대구,621304\n",
            ",인천,802841\n",
            ",광주,401505\n",
            ",대전,497431\n",
            ",울산,329529\n",
            ",세종,111744\n",
            ",경기,3748241\n",
            ",강원,396588\n",
            ",충북,448953\n",
            ",충남,611865\n",
            ",전북,424525\n",
            ",전남,400652\n",
            ",경북,690430\n",
            ",경남,874072\n",
            ",제주,204367\n",
            "20200531,서울,3031147\n",
            ",부산,909612\n",
            ",대구,622920\n",
            ",인천,805059\n",
            ",광주,402864\n",
            ",대전,499401\n",
            ",울산,330343\n",
            ",세종,112162\n",
            ",경기,3770059\n",
            ",강원,397990\n",
            ",충북,450368\n",
            ",충남,613581\n",
            ",전북,426422\n",
            ",전남,402447\n",
            ",경북,692251\n",
            ",경남,876491\n",
            ",제주,205223\n",
            "20200601,서울,3035029\n",
            ",부산,911225\n",
            ",대구,623419\n",
            ",인천,805995\n",
            ",광주,403359\n",
            ",대전,500230\n",
            ",울산,330646\n",
            ",세종,112345\n",
            ",경기,3778231\n",
            ",강원,398604\n",
            ",충북,450924\n",
            ",충남,614382\n",
            ",전북,427207\n",
            ",전남,403199\n",
            ",경북,692963\n",
            ",경남,877596\n",
            ",제주,205672\n",
            "20200602,서울,3037799\n",
            ",부산,912266\n",
            ",대구,623782\n",
            ",인천,806600\n",
            ",광주,403693\n",
            ",대전,500832\n",
            ",울산,330858\n",
            ",세종,112462\n",
            ",경기,3784064\n",
            ",강원,398998\n",
            ",충북,451276\n",
            ",충남,614937\n",
            ",전북,427690\n",
            ",전남,403711\n",
            ",경북,693455\n",
            ",경남,878317\n",
            ",제주,205932\n",
            "20200603,서울,3043103\n",
            ",부산,913117\n",
            ",대구,624092\n",
            ",인천,807102\n",
            ",광주,403983\n",
            ",대전,501244\n",
            ",울산,331034\n",
            ",세종,112572\n",
            ",경기,3788746\n",
            ",강원,399341\n",
            ",충북,451600\n",
            ",충남,615397\n",
            ",전북,428085\n",
            ",전남,404110\n",
            ",경북,693829\n",
            ",경남,878928\n",
            ",제주,206159\n",
            "20200604,서울,3042374\n",
            ",부산,913827\n",
            ",대구,624386\n",
            ",인천,807568\n",
            ",광주,404224\n",
            ",대전,501640\n",
            ",울산,331199\n",
            ",세종,112661\n",
            ",경기,3792785\n",
            ",강원,399626\n",
            ",충북,451955\n",
            ",충남,615829\n",
            ",전북,428477\n",
            ",전남,404458\n",
            ",경북,694180\n",
            ",경남,879453\n",
            ",제주,206394\n",
            "20200607,서울,3045732\n",
            ",부산,914750\n",
            ",대구,624813\n",
            ",인천,808212\n",
            ",광주,404571\n",
            ",대전,502161\n",
            ",울산,331420\n",
            ",세종,112806\n",
            ",경기,3798809\n",
            ",강원,399961\n",
            ",충북,452355\n",
            ",충남,616354\n",
            ",전북,428931\n",
            ",전남,404948\n",
            ",경북,694609\n",
            ",경남,880095\n",
            ",제주,206656\n",
            ",,\n",
            ",,\n",
            ",,\n",
            ",,\n",
            ",,\n",
            ",,\n",
            ",,\n",
            ",,\n",
            ",,\n",
            ",,\n",
            ",,\n",
            ",,\n",
            ",,\n",
            ",,\n",
            ",,\n",
            ",,\n",
            ",,\n",
            "\n"
          ],
          "name": "stdout"
        }
      ]
    },
    {
      "cell_type": "code",
      "metadata": {
        "id": "8Q-hNt0IcJa1",
        "colab_type": "code",
        "colab": {
          "base_uri": "https://localhost:8080/",
          "height": 935
        },
        "outputId": "5db4afd9-c386-4f86-c3f2-1cc792dc5aea"
      },
      "source": [
        "import pandas as pd\n",
        "Data = pd.read_csv('/content/SIDO_SUBSIDIES_(DAILY).csv', encoding='euc-kr')\n",
        "Data.tail(30)"
      ],
      "execution_count": null,
      "outputs": [
        {
          "output_type": "execute_result",
          "data": {
            "text/html": [
              "<div>\n",
              "<style scoped>\n",
              "    .dataframe tbody tr th:only-of-type {\n",
              "        vertical-align: middle;\n",
              "    }\n",
              "\n",
              "    .dataframe tbody tr th {\n",
              "        vertical-align: top;\n",
              "    }\n",
              "\n",
              "    .dataframe thead th {\n",
              "        text-align: right;\n",
              "    }\n",
              "</style>\n",
              "<table border=\"1\" class=\"dataframe\">\n",
              "  <thead>\n",
              "    <tr style=\"text-align: right;\">\n",
              "      <th></th>\n",
              "      <th>REG_YYMMDD</th>\n",
              "      <th>CARD_SIDO_NM</th>\n",
              "      <th>HOUSEHOLDS_DAILY</th>\n",
              "    </tr>\n",
              "  </thead>\n",
              "  <tbody>\n",
              "    <tr>\n",
              "      <th>327</th>\n",
              "      <td>NaN</td>\n",
              "      <td>광주</td>\n",
              "      <td>404571.0</td>\n",
              "    </tr>\n",
              "    <tr>\n",
              "      <th>328</th>\n",
              "      <td>NaN</td>\n",
              "      <td>대전</td>\n",
              "      <td>502161.0</td>\n",
              "    </tr>\n",
              "    <tr>\n",
              "      <th>329</th>\n",
              "      <td>NaN</td>\n",
              "      <td>울산</td>\n",
              "      <td>331420.0</td>\n",
              "    </tr>\n",
              "    <tr>\n",
              "      <th>330</th>\n",
              "      <td>NaN</td>\n",
              "      <td>세종</td>\n",
              "      <td>112806.0</td>\n",
              "    </tr>\n",
              "    <tr>\n",
              "      <th>331</th>\n",
              "      <td>NaN</td>\n",
              "      <td>경기</td>\n",
              "      <td>3798809.0</td>\n",
              "    </tr>\n",
              "    <tr>\n",
              "      <th>332</th>\n",
              "      <td>NaN</td>\n",
              "      <td>강원</td>\n",
              "      <td>399961.0</td>\n",
              "    </tr>\n",
              "    <tr>\n",
              "      <th>333</th>\n",
              "      <td>NaN</td>\n",
              "      <td>충북</td>\n",
              "      <td>452355.0</td>\n",
              "    </tr>\n",
              "    <tr>\n",
              "      <th>334</th>\n",
              "      <td>NaN</td>\n",
              "      <td>충남</td>\n",
              "      <td>616354.0</td>\n",
              "    </tr>\n",
              "    <tr>\n",
              "      <th>335</th>\n",
              "      <td>NaN</td>\n",
              "      <td>전북</td>\n",
              "      <td>428931.0</td>\n",
              "    </tr>\n",
              "    <tr>\n",
              "      <th>336</th>\n",
              "      <td>NaN</td>\n",
              "      <td>전남</td>\n",
              "      <td>404948.0</td>\n",
              "    </tr>\n",
              "    <tr>\n",
              "      <th>337</th>\n",
              "      <td>NaN</td>\n",
              "      <td>경북</td>\n",
              "      <td>694609.0</td>\n",
              "    </tr>\n",
              "    <tr>\n",
              "      <th>338</th>\n",
              "      <td>NaN</td>\n",
              "      <td>경남</td>\n",
              "      <td>880095.0</td>\n",
              "    </tr>\n",
              "    <tr>\n",
              "      <th>339</th>\n",
              "      <td>NaN</td>\n",
              "      <td>제주</td>\n",
              "      <td>206656.0</td>\n",
              "    </tr>\n",
              "    <tr>\n",
              "      <th>340</th>\n",
              "      <td>NaN</td>\n",
              "      <td>NaN</td>\n",
              "      <td>NaN</td>\n",
              "    </tr>\n",
              "    <tr>\n",
              "      <th>341</th>\n",
              "      <td>NaN</td>\n",
              "      <td>NaN</td>\n",
              "      <td>NaN</td>\n",
              "    </tr>\n",
              "    <tr>\n",
              "      <th>342</th>\n",
              "      <td>NaN</td>\n",
              "      <td>NaN</td>\n",
              "      <td>NaN</td>\n",
              "    </tr>\n",
              "    <tr>\n",
              "      <th>343</th>\n",
              "      <td>NaN</td>\n",
              "      <td>NaN</td>\n",
              "      <td>NaN</td>\n",
              "    </tr>\n",
              "    <tr>\n",
              "      <th>344</th>\n",
              "      <td>NaN</td>\n",
              "      <td>NaN</td>\n",
              "      <td>NaN</td>\n",
              "    </tr>\n",
              "    <tr>\n",
              "      <th>345</th>\n",
              "      <td>NaN</td>\n",
              "      <td>NaN</td>\n",
              "      <td>NaN</td>\n",
              "    </tr>\n",
              "    <tr>\n",
              "      <th>346</th>\n",
              "      <td>NaN</td>\n",
              "      <td>NaN</td>\n",
              "      <td>NaN</td>\n",
              "    </tr>\n",
              "    <tr>\n",
              "      <th>347</th>\n",
              "      <td>NaN</td>\n",
              "      <td>NaN</td>\n",
              "      <td>NaN</td>\n",
              "    </tr>\n",
              "    <tr>\n",
              "      <th>348</th>\n",
              "      <td>NaN</td>\n",
              "      <td>NaN</td>\n",
              "      <td>NaN</td>\n",
              "    </tr>\n",
              "    <tr>\n",
              "      <th>349</th>\n",
              "      <td>NaN</td>\n",
              "      <td>NaN</td>\n",
              "      <td>NaN</td>\n",
              "    </tr>\n",
              "    <tr>\n",
              "      <th>350</th>\n",
              "      <td>NaN</td>\n",
              "      <td>NaN</td>\n",
              "      <td>NaN</td>\n",
              "    </tr>\n",
              "    <tr>\n",
              "      <th>351</th>\n",
              "      <td>NaN</td>\n",
              "      <td>NaN</td>\n",
              "      <td>NaN</td>\n",
              "    </tr>\n",
              "    <tr>\n",
              "      <th>352</th>\n",
              "      <td>NaN</td>\n",
              "      <td>NaN</td>\n",
              "      <td>NaN</td>\n",
              "    </tr>\n",
              "    <tr>\n",
              "      <th>353</th>\n",
              "      <td>NaN</td>\n",
              "      <td>NaN</td>\n",
              "      <td>NaN</td>\n",
              "    </tr>\n",
              "    <tr>\n",
              "      <th>354</th>\n",
              "      <td>NaN</td>\n",
              "      <td>NaN</td>\n",
              "      <td>NaN</td>\n",
              "    </tr>\n",
              "    <tr>\n",
              "      <th>355</th>\n",
              "      <td>NaN</td>\n",
              "      <td>NaN</td>\n",
              "      <td>NaN</td>\n",
              "    </tr>\n",
              "    <tr>\n",
              "      <th>356</th>\n",
              "      <td>NaN</td>\n",
              "      <td>NaN</td>\n",
              "      <td>NaN</td>\n",
              "    </tr>\n",
              "  </tbody>\n",
              "</table>\n",
              "</div>"
            ],
            "text/plain": [
              "     REG_YYMMDD CARD_SIDO_NM  HOUSEHOLDS_DAILY\n",
              "327         NaN           광주          404571.0\n",
              "328         NaN           대전          502161.0\n",
              "329         NaN           울산          331420.0\n",
              "330         NaN           세종          112806.0\n",
              "331         NaN           경기         3798809.0\n",
              "332         NaN           강원          399961.0\n",
              "333         NaN           충북          452355.0\n",
              "334         NaN           충남          616354.0\n",
              "335         NaN           전북          428931.0\n",
              "336         NaN           전남          404948.0\n",
              "337         NaN           경북          694609.0\n",
              "338         NaN           경남          880095.0\n",
              "339         NaN           제주          206656.0\n",
              "340         NaN          NaN               NaN\n",
              "341         NaN          NaN               NaN\n",
              "342         NaN          NaN               NaN\n",
              "343         NaN          NaN               NaN\n",
              "344         NaN          NaN               NaN\n",
              "345         NaN          NaN               NaN\n",
              "346         NaN          NaN               NaN\n",
              "347         NaN          NaN               NaN\n",
              "348         NaN          NaN               NaN\n",
              "349         NaN          NaN               NaN\n",
              "350         NaN          NaN               NaN\n",
              "351         NaN          NaN               NaN\n",
              "352         NaN          NaN               NaN\n",
              "353         NaN          NaN               NaN\n",
              "354         NaN          NaN               NaN\n",
              "355         NaN          NaN               NaN\n",
              "356         NaN          NaN               NaN"
            ]
          },
          "metadata": {
            "tags": []
          },
          "execution_count": 80
        }
      ]
    },
    {
      "cell_type": "code",
      "metadata": {
        "id": "77F0t5rMcT2B",
        "colab_type": "code",
        "colab": {
          "base_uri": "https://localhost:8080/",
          "height": 402
        },
        "outputId": "fcb67e3a-2c8f-44b5-ddef-4cabe0424ab9"
      },
      "source": [
        "Data = Data.drop(Data.index[340:357])\n",
        "Data"
      ],
      "execution_count": null,
      "outputs": [
        {
          "output_type": "execute_result",
          "data": {
            "text/html": [
              "<div>\n",
              "<style scoped>\n",
              "    .dataframe tbody tr th:only-of-type {\n",
              "        vertical-align: middle;\n",
              "    }\n",
              "\n",
              "    .dataframe tbody tr th {\n",
              "        vertical-align: top;\n",
              "    }\n",
              "\n",
              "    .dataframe thead th {\n",
              "        text-align: right;\n",
              "    }\n",
              "</style>\n",
              "<table border=\"1\" class=\"dataframe\">\n",
              "  <thead>\n",
              "    <tr style=\"text-align: right;\">\n",
              "      <th></th>\n",
              "      <th>REG_YYMMDD</th>\n",
              "      <th>CARD_SIDO_NM</th>\n",
              "      <th>HOUSEHOLDS_DAILY</th>\n",
              "    </tr>\n",
              "  </thead>\n",
              "  <tbody>\n",
              "    <tr>\n",
              "      <th>0</th>\n",
              "      <td>20200511.0</td>\n",
              "      <td>서울</td>\n",
              "      <td>399881.0</td>\n",
              "    </tr>\n",
              "    <tr>\n",
              "      <th>1</th>\n",
              "      <td>NaN</td>\n",
              "      <td>부산</td>\n",
              "      <td>109374.0</td>\n",
              "    </tr>\n",
              "    <tr>\n",
              "      <th>2</th>\n",
              "      <td>NaN</td>\n",
              "      <td>대구</td>\n",
              "      <td>85133.0</td>\n",
              "    </tr>\n",
              "    <tr>\n",
              "      <th>3</th>\n",
              "      <td>NaN</td>\n",
              "      <td>인천</td>\n",
              "      <td>107629.0</td>\n",
              "    </tr>\n",
              "    <tr>\n",
              "      <th>4</th>\n",
              "      <td>NaN</td>\n",
              "      <td>광주</td>\n",
              "      <td>51739.0</td>\n",
              "    </tr>\n",
              "    <tr>\n",
              "      <th>...</th>\n",
              "      <td>...</td>\n",
              "      <td>...</td>\n",
              "      <td>...</td>\n",
              "    </tr>\n",
              "    <tr>\n",
              "      <th>335</th>\n",
              "      <td>NaN</td>\n",
              "      <td>전북</td>\n",
              "      <td>428931.0</td>\n",
              "    </tr>\n",
              "    <tr>\n",
              "      <th>336</th>\n",
              "      <td>NaN</td>\n",
              "      <td>전남</td>\n",
              "      <td>404948.0</td>\n",
              "    </tr>\n",
              "    <tr>\n",
              "      <th>337</th>\n",
              "      <td>NaN</td>\n",
              "      <td>경북</td>\n",
              "      <td>694609.0</td>\n",
              "    </tr>\n",
              "    <tr>\n",
              "      <th>338</th>\n",
              "      <td>NaN</td>\n",
              "      <td>경남</td>\n",
              "      <td>880095.0</td>\n",
              "    </tr>\n",
              "    <tr>\n",
              "      <th>339</th>\n",
              "      <td>NaN</td>\n",
              "      <td>제주</td>\n",
              "      <td>206656.0</td>\n",
              "    </tr>\n",
              "  </tbody>\n",
              "</table>\n",
              "<p>340 rows × 3 columns</p>\n",
              "</div>"
            ],
            "text/plain": [
              "     REG_YYMMDD CARD_SIDO_NM  HOUSEHOLDS_DAILY\n",
              "0    20200511.0           서울          399881.0\n",
              "1           NaN           부산          109374.0\n",
              "2           NaN           대구           85133.0\n",
              "3           NaN           인천          107629.0\n",
              "4           NaN           광주           51739.0\n",
              "..          ...          ...               ...\n",
              "335         NaN           전북          428931.0\n",
              "336         NaN           전남          404948.0\n",
              "337         NaN           경북          694609.0\n",
              "338         NaN           경남          880095.0\n",
              "339         NaN           제주          206656.0\n",
              "\n",
              "[340 rows x 3 columns]"
            ]
          },
          "metadata": {
            "tags": []
          },
          "execution_count": 81
        }
      ]
    },
    {
      "cell_type": "code",
      "metadata": {
        "id": "A4xm6RYOm5I1",
        "colab_type": "code",
        "colab": {
          "base_uri": "https://localhost:8080/",
          "height": 402
        },
        "outputId": "a9c576e3-eba2-4b8d-ba59-3836f284467b"
      },
      "source": [
        "Data_re = Data[['REG_YYMMDD', 'CARD_SIDO_NM', 'HOUSEHOLDS_DAILY']]\n",
        "Data_re"
      ],
      "execution_count": null,
      "outputs": [
        {
          "output_type": "execute_result",
          "data": {
            "text/html": [
              "<div>\n",
              "<style scoped>\n",
              "    .dataframe tbody tr th:only-of-type {\n",
              "        vertical-align: middle;\n",
              "    }\n",
              "\n",
              "    .dataframe tbody tr th {\n",
              "        vertical-align: top;\n",
              "    }\n",
              "\n",
              "    .dataframe thead th {\n",
              "        text-align: right;\n",
              "    }\n",
              "</style>\n",
              "<table border=\"1\" class=\"dataframe\">\n",
              "  <thead>\n",
              "    <tr style=\"text-align: right;\">\n",
              "      <th></th>\n",
              "      <th>REG_YYMMDD</th>\n",
              "      <th>CARD_SIDO_NM</th>\n",
              "      <th>HOUSEHOLDS_DAILY</th>\n",
              "    </tr>\n",
              "  </thead>\n",
              "  <tbody>\n",
              "    <tr>\n",
              "      <th>0</th>\n",
              "      <td>20200511.0</td>\n",
              "      <td>서울</td>\n",
              "      <td>399881.0</td>\n",
              "    </tr>\n",
              "    <tr>\n",
              "      <th>1</th>\n",
              "      <td>NaN</td>\n",
              "      <td>부산</td>\n",
              "      <td>109374.0</td>\n",
              "    </tr>\n",
              "    <tr>\n",
              "      <th>2</th>\n",
              "      <td>NaN</td>\n",
              "      <td>대구</td>\n",
              "      <td>85133.0</td>\n",
              "    </tr>\n",
              "    <tr>\n",
              "      <th>3</th>\n",
              "      <td>NaN</td>\n",
              "      <td>인천</td>\n",
              "      <td>107629.0</td>\n",
              "    </tr>\n",
              "    <tr>\n",
              "      <th>4</th>\n",
              "      <td>NaN</td>\n",
              "      <td>광주</td>\n",
              "      <td>51739.0</td>\n",
              "    </tr>\n",
              "    <tr>\n",
              "      <th>...</th>\n",
              "      <td>...</td>\n",
              "      <td>...</td>\n",
              "      <td>...</td>\n",
              "    </tr>\n",
              "    <tr>\n",
              "      <th>335</th>\n",
              "      <td>NaN</td>\n",
              "      <td>전북</td>\n",
              "      <td>428931.0</td>\n",
              "    </tr>\n",
              "    <tr>\n",
              "      <th>336</th>\n",
              "      <td>NaN</td>\n",
              "      <td>전남</td>\n",
              "      <td>404948.0</td>\n",
              "    </tr>\n",
              "    <tr>\n",
              "      <th>337</th>\n",
              "      <td>NaN</td>\n",
              "      <td>경북</td>\n",
              "      <td>694609.0</td>\n",
              "    </tr>\n",
              "    <tr>\n",
              "      <th>338</th>\n",
              "      <td>NaN</td>\n",
              "      <td>경남</td>\n",
              "      <td>880095.0</td>\n",
              "    </tr>\n",
              "    <tr>\n",
              "      <th>339</th>\n",
              "      <td>NaN</td>\n",
              "      <td>제주</td>\n",
              "      <td>206656.0</td>\n",
              "    </tr>\n",
              "  </tbody>\n",
              "</table>\n",
              "<p>340 rows × 3 columns</p>\n",
              "</div>"
            ],
            "text/plain": [
              "     REG_YYMMDD CARD_SIDO_NM  HOUSEHOLDS_DAILY\n",
              "0    20200511.0           서울          399881.0\n",
              "1           NaN           부산          109374.0\n",
              "2           NaN           대구           85133.0\n",
              "3           NaN           인천          107629.0\n",
              "4           NaN           광주           51739.0\n",
              "..          ...          ...               ...\n",
              "335         NaN           전북          428931.0\n",
              "336         NaN           전남          404948.0\n",
              "337         NaN           경북          694609.0\n",
              "338         NaN           경남          880095.0\n",
              "339         NaN           제주          206656.0\n",
              "\n",
              "[340 rows x 3 columns]"
            ]
          },
          "metadata": {
            "tags": []
          },
          "execution_count": 93
        }
      ]
    },
    {
      "cell_type": "code",
      "metadata": {
        "id": "eR_gGSlhnp0G",
        "colab_type": "code",
        "colab": {}
      },
      "source": [
        "# Data_sum = Data_re.groupby(['REG_YYMMDD', 'CARD_SIDO_NM',]).agg(['sum']).reset_index()"
      ],
      "execution_count": null,
      "outputs": []
    },
    {
      "cell_type": "code",
      "metadata": {
        "id": "-kzPwjwIlz84",
        "colab_type": "code",
        "colab": {
          "base_uri": "https://localhost:8080/",
          "height": 34
        },
        "outputId": "27660998-0328-43c3-a3b8-0d81326abedb"
      },
      "source": [
        "SEOUL = Data[Data['CARD_SIDO_NM']=='서울']\n",
        "SEOUL['HOUSEHOLDS_DAILY'].sum()"
      ],
      "execution_count": null,
      "outputs": [
        {
          "output_type": "execute_result",
          "data": {
            "text/plain": [
              "50589186.0"
            ]
          },
          "metadata": {
            "tags": []
          },
          "execution_count": 104
        }
      ]
    },
    {
      "cell_type": "code",
      "metadata": {
        "id": "2z_-wwbUpwWQ",
        "colab_type": "code",
        "colab": {
          "base_uri": "https://localhost:8080/",
          "height": 34
        },
        "outputId": "e29585bd-6331-40e2-8b4f-6464559c1388"
      },
      "source": [
        "BUSAN = Data[Data['CARD_SIDO_NM']=='부산']\n",
        "BUSAN['HOUSEHOLDS_DAILY'].sum()"
      ],
      "execution_count": null,
      "outputs": [
        {
          "output_type": "execute_result",
          "data": {
            "text/plain": [
              "14910307.0"
            ]
          },
          "metadata": {
            "tags": []
          },
          "execution_count": 105
        }
      ]
    },
    {
      "cell_type": "code",
      "metadata": {
        "id": "qlqFbtMdp4gR",
        "colab_type": "code",
        "colab": {
          "base_uri": "https://localhost:8080/",
          "height": 34
        },
        "outputId": "80046fa4-4e8f-4b14-8005-00142f429525"
      },
      "source": [
        "DAEGU = Data[Data['CARD_SIDO_NM']=='대구']\n",
        "DAEGU['HOUSEHOLDS_DAILY'].sum()"
      ],
      "execution_count": null,
      "outputs": [
        {
          "output_type": "execute_result",
          "data": {
            "text/plain": [
              "10425278.0"
            ]
          },
          "metadata": {
            "tags": []
          },
          "execution_count": 106
        }
      ]
    },
    {
      "cell_type": "code",
      "metadata": {
        "id": "RGlaL9zrp_4B",
        "colab_type": "code",
        "colab": {
          "base_uri": "https://localhost:8080/",
          "height": 34
        },
        "outputId": "238ff926-bb16-4483-9a93-6fa6fb0d640c"
      },
      "source": [
        "INCHEON = Data[Data['CARD_SIDO_NM']=='인천']\n",
        "INCHEON['HOUSEHOLDS_DAILY'].sum()"
      ],
      "execution_count": null,
      "outputs": [
        {
          "output_type": "execute_result",
          "data": {
            "text/plain": [
              "13524663.0"
            ]
          },
          "metadata": {
            "tags": []
          },
          "execution_count": 107
        }
      ]
    },
    {
      "cell_type": "code",
      "metadata": {
        "id": "CQUwWEWaqBb_",
        "colab_type": "code",
        "colab": {
          "base_uri": "https://localhost:8080/",
          "height": 34
        },
        "outputId": "9fc88a14-fc44-416c-fc64-7ed933bcc79c"
      },
      "source": [
        "GWANGJU = Data[Data['CARD_SIDO_NM']=='광주']\n",
        "GWANGJU['HOUSEHOLDS_DAILY'].sum()"
      ],
      "execution_count": null,
      "outputs": [
        {
          "output_type": "execute_result",
          "data": {
            "text/plain": [
              "6692908.0"
            ]
          },
          "metadata": {
            "tags": []
          },
          "execution_count": 108
        }
      ]
    },
    {
      "cell_type": "code",
      "metadata": {
        "id": "meRx4ty8qBt-",
        "colab_type": "code",
        "colab": {
          "base_uri": "https://localhost:8080/",
          "height": 34
        },
        "outputId": "e21308f7-2e93-4a91-f462-7055e0d25a35"
      },
      "source": [
        "DAEJEON = Data[Data['CARD_SIDO_NM']=='대전']\n",
        "DAEJEON['HOUSEHOLDS_DAILY'].sum()"
      ],
      "execution_count": null,
      "outputs": [
        {
          "output_type": "execute_result",
          "data": {
            "text/plain": [
              "8176923.0"
            ]
          },
          "metadata": {
            "tags": []
          },
          "execution_count": 109
        }
      ]
    },
    {
      "cell_type": "code",
      "metadata": {
        "id": "g_ycamAvqB-L",
        "colab_type": "code",
        "colab": {
          "base_uri": "https://localhost:8080/",
          "height": 34
        },
        "outputId": "60441e1d-d507-4704-a9c1-9898f33f5b16"
      },
      "source": [
        "ULSAN = Data[Data['CARD_SIDO_NM']=='울산']\n",
        "ULSAN['HOUSEHOLDS_DAILY'].sum()"
      ],
      "execution_count": null,
      "outputs": [
        {
          "output_type": "execute_result",
          "data": {
            "text/plain": [
              "5446978.0"
            ]
          },
          "metadata": {
            "tags": []
          },
          "execution_count": 110
        }
      ]
    },
    {
      "cell_type": "code",
      "metadata": {
        "id": "zsh0gnpAqCRg",
        "colab_type": "code",
        "colab": {
          "base_uri": "https://localhost:8080/",
          "height": 34
        },
        "outputId": "d178a2bd-9b51-41ef-b500-3b3725330711"
      },
      "source": [
        "SEJONG = Data[Data['CARD_SIDO_NM']=='세종']\n",
        "SEJONG['HOUSEHOLDS_DAILY'].sum()"
      ],
      "execution_count": null,
      "outputs": [
        {
          "output_type": "execute_result",
          "data": {
            "text/plain": [
              "1884227.0"
            ]
          },
          "metadata": {
            "tags": []
          },
          "execution_count": 111
        }
      ]
    },
    {
      "cell_type": "code",
      "metadata": {
        "id": "zvk5Guv8qDAC",
        "colab_type": "code",
        "colab": {
          "base_uri": "https://localhost:8080/",
          "height": 34
        },
        "outputId": "0e5fbb5c-cf36-425e-ecc1-ca16b85a9f87"
      },
      "source": [
        "GYEONGGI = Data[Data['CARD_SIDO_NM']=='경기']\n",
        "GYEONGGI['HOUSEHOLDS_DAILY'].sum()"
      ],
      "execution_count": null,
      "outputs": [
        {
          "output_type": "execute_result",
          "data": {
            "text/plain": [
              "62236043.0"
            ]
          },
          "metadata": {
            "tags": []
          },
          "execution_count": 112
        }
      ]
    },
    {
      "cell_type": "code",
      "metadata": {
        "id": "DiHYUAQXqaEO",
        "colab_type": "code",
        "colab": {
          "base_uri": "https://localhost:8080/",
          "height": 34
        },
        "outputId": "e3ddf6b0-f165-461d-bf24-393d57d675ae"
      },
      "source": [
        "GANGWON = Data[Data['CARD_SIDO_NM']=='강원']\n",
        "GANGWON['HOUSEHOLDS_DAILY'].sum()"
      ],
      "execution_count": null,
      "outputs": [
        {
          "output_type": "execute_result",
          "data": {
            "text/plain": [
              "6494356.0"
            ]
          },
          "metadata": {
            "tags": []
          },
          "execution_count": 113
        }
      ]
    },
    {
      "cell_type": "code",
      "metadata": {
        "id": "Ov5Lg_95qaYn",
        "colab_type": "code",
        "colab": {
          "base_uri": "https://localhost:8080/",
          "height": 34
        },
        "outputId": "7b04257f-91e7-4063-d72a-71a997f6857c"
      },
      "source": [
        "CHUNGBUK = Data[Data['CARD_SIDO_NM']=='충북']\n",
        "CHUNGBUK['HOUSEHOLDS_DAILY'].sum()"
      ],
      "execution_count": null,
      "outputs": [
        {
          "output_type": "execute_result",
          "data": {
            "text/plain": [
              "7386488.0"
            ]
          },
          "metadata": {
            "tags": []
          },
          "execution_count": 114
        }
      ]
    },
    {
      "cell_type": "code",
      "metadata": {
        "id": "8KsI4F_qqanH",
        "colab_type": "code",
        "colab": {
          "base_uri": "https://localhost:8080/",
          "height": 34
        },
        "outputId": "66ec98c5-dfff-4fd9-cda7-1cb76be837b2"
      },
      "source": [
        "JEONBUK = Data[Data['CARD_SIDO_NM']=='전북']\n",
        "JEONBUK['HOUSEHOLDS_DAILY'].sum()"
      ],
      "execution_count": null,
      "outputs": [
        {
          "output_type": "execute_result",
          "data": {
            "text/plain": [
              "6888395.0"
            ]
          },
          "metadata": {
            "tags": []
          },
          "execution_count": 115
        }
      ]
    },
    {
      "cell_type": "code",
      "metadata": {
        "id": "dmKSzRk0qa1b",
        "colab_type": "code",
        "colab": {
          "base_uri": "https://localhost:8080/",
          "height": 34
        },
        "outputId": "996b50f2-98f8-47af-f458-68df50ea6ec9"
      },
      "source": [
        "JEONNAM = Data[Data['CARD_SIDO_NM']=='전남']\n",
        "JEONNAM['HOUSEHOLDS_DAILY'].sum()"
      ],
      "execution_count": null,
      "outputs": [
        {
          "output_type": "execute_result",
          "data": {
            "text/plain": [
              "6473222.0"
            ]
          },
          "metadata": {
            "tags": []
          },
          "execution_count": 116
        }
      ]
    },
    {
      "cell_type": "code",
      "metadata": {
        "id": "dRsNoc4RqvSo",
        "colab_type": "code",
        "colab": {
          "base_uri": "https://localhost:8080/",
          "height": 34
        },
        "outputId": "fded1ec6-1a93-4e4c-eb96-439bc777fd88"
      },
      "source": [
        "GYEONBUK = Data[Data['CARD_SIDO_NM']=='경북']\n",
        "GYEONBUK['HOUSEHOLDS_DAILY'].sum()"
      ],
      "execution_count": null,
      "outputs": [
        {
          "output_type": "execute_result",
          "data": {
            "text/plain": [
              "11263587.0"
            ]
          },
          "metadata": {
            "tags": []
          },
          "execution_count": 120
        }
      ]
    },
    {
      "cell_type": "code",
      "metadata": {
        "id": "xutcL44CqwRd",
        "colab_type": "code",
        "colab": {
          "base_uri": "https://localhost:8080/",
          "height": 34
        },
        "outputId": "7dc1c716-b8ea-4a53-c039-46596c1417cf"
      },
      "source": [
        "GYEONGNAM = Data[Data['CARD_SIDO_NM']=='경남']\n",
        "GYEONGNAM['HOUSEHOLDS_DAILY'].sum()"
      ],
      "execution_count": null,
      "outputs": [
        {
          "output_type": "execute_result",
          "data": {
            "text/plain": [
              "14245656.0"
            ]
          },
          "metadata": {
            "tags": []
          },
          "execution_count": 119
        }
      ]
    },
    {
      "cell_type": "code",
      "metadata": {
        "id": "FoeBJK5mqwkR",
        "colab_type": "code",
        "colab": {
          "base_uri": "https://localhost:8080/",
          "height": 34
        },
        "outputId": "16763e9d-26e1-4691-86f7-da01416076f7"
      },
      "source": [
        "JEJU = Data[Data['CARD_SIDO_NM']=='제주']\n",
        "JEJU['HOUSEHOLDS_DAILY'].sum()"
      ],
      "execution_count": null,
      "outputs": [
        {
          "output_type": "execute_result",
          "data": {
            "text/plain": [
              "3316503.0"
            ]
          },
          "metadata": {
            "tags": []
          },
          "execution_count": 121
        }
      ]
    }
  ]
}
