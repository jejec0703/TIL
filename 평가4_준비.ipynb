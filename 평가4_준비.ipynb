{
  "nbformat": 4,
  "nbformat_minor": 0,
  "metadata": {
    "colab": {
      "name": "평가4 준비",
      "provenance": [],
      "collapsed_sections": [],
      "include_colab_link": true
    },
    "kernelspec": {
      "name": "python3",
      "display_name": "Python 3"
    }
  },
  "cells": [
    {
      "cell_type": "markdown",
      "metadata": {
        "id": "view-in-github",
        "colab_type": "text"
      },
      "source": [
        "<a href=\"https://colab.research.google.com/github/jejec0703/TIL/blob/master/%ED%8F%89%EA%B0%804_%EC%A4%80%EB%B9%84.ipynb\" target=\"_parent\"><img src=\"https://colab.research.google.com/assets/colab-badge.svg\" alt=\"Open In Colab\"/></a>"
      ]
    },
    {
      "cell_type": "markdown",
      "metadata": {
        "id": "FQwq6y_IsIgH",
        "colab_type": "text"
      },
      "source": [
        "## 1번"
      ]
    },
    {
      "cell_type": "code",
      "metadata": {
        "id": "rcXxPWoGsgZO",
        "colab_type": "code",
        "colab": {
          "base_uri": "https://localhost:8080/",
          "height": 34
        },
        "outputId": "ff3f8b88-c246-40f8-f645-e0ec6700f9fe"
      },
      "source": [
        "import numpy as np\n",
        "\n",
        "# Write a function that takes as input a list of numbers, and returns\n",
        "# the list of values given by the softmax function.\n",
        "def softmax(L):\n",
        "    expL = np.exp(L)\n",
        "    sumExpL = sum(expL)\n",
        "    result = []\n",
        "    for i in expL:\n",
        "      result.append((i/sumExpL).round(2))\n",
        "    return result\n",
        "\n",
        "print(softmax([2, 1, 0]))"
      ],
      "execution_count": null,
      "outputs": [
        {
          "output_type": "stream",
          "text": [
            "[0.67, 0.24, 0.09]\n"
          ],
          "name": "stdout"
        }
      ]
    },
    {
      "cell_type": "markdown",
      "metadata": {
        "id": "MLUt4G3Dsgtk",
        "colab_type": "text"
      },
      "source": [
        "## 2번"
      ]
    },
    {
      "cell_type": "code",
      "metadata": {
        "id": "kHjEdK74stmq",
        "colab_type": "code",
        "colab": {}
      },
      "source": [
        "# Implement the following functions\n",
        "\n",
        "# Activation (sigmoid) function\n",
        "def sigmoid(x):\n",
        "  return 1/ (1 + np.exp(-x))\n",
        "\n",
        "# Output (prediction) formula\n",
        "def output_formula(features, weights, bias):\n",
        "    return sigmoid(np.dot(features, weights) + bias)\n",
        "\n",
        "# Error (log-loss) formula\n",
        "def error_formula(y, output):\n",
        "    return - y*np.log(output) - (1- y)* np.log(1 - output)\n",
        "\n",
        "# Gradient descent step\n",
        "def update_weights(x, y, weights, bias, learnrate):\n",
        "  output = output_formula(x, weights, bias)\n",
        "  d_error = y - output\n",
        "  weights += learnrate * d_error * x\n",
        "  bias += learnrate * d_error\n",
        "\n",
        "  return weights, bias\n",
        "\n",
        "#답 : d_error = y - output"
      ],
      "execution_count": null,
      "outputs": []
    },
    {
      "cell_type": "markdown",
      "metadata": {
        "id": "wQopPbe4sxWr",
        "colab_type": "text"
      },
      "source": [
        "## 3번"
      ]
    },
    {
      "cell_type": "code",
      "metadata": {
        "id": "vNnEtzUjwMH3",
        "colab_type": "code",
        "colab": {}
      },
      "source": [
        "from tensorflow.keras.preprocessing.text import Tokenizer\n",
        "from tensorflow.keras.preprocessing.sequence import pad_sequences\n",
        "\n",
        "sentences = ['바나나 사과 포도 포도',\n",
        "         '사과 포도',\n",
        "         '포도 바나나',\n",
        "         '짜장면 짬뽕 탕수육',\n",
        "         '볶음밥 탕수육',\n",
        "         '짜장면 짬뽕',\n",
        "         '라면 스시',\n",
        "         '스시',\n",
        "         '가츠동 스시 소바',\n",
        "         '된장찌개 김치찌개 김치',\n",
        "         '김치 된장',\n",
        "         '비빔밥 김치'\n",
        "         ]\n",
        "\n",
        "tokenizer = Tokenizer(oov_token=\"<OOV>\")\n",
        "tokenizer.fit_on_texts(sentences)\n",
        "max_sequence_len = max([len(x) for x in sentences])\n",
        "sequences = tokenizer.texts_to_sequences(sentences)\n",
        "padded = pad_sequences(sequences, padding='post',  maxlen=max_sequence_len, truncating='post')"
      ],
      "execution_count": null,
      "outputs": []
    },
    {
      "cell_type": "code",
      "metadata": {
        "id": "9a42QWvhwOX5",
        "colab_type": "code",
        "colab": {
          "base_uri": "https://localhost:8080/",
          "height": 72
        },
        "outputId": "d25ada01-d692-4e1d-f6af-faefdc2a2e40"
      },
      "source": [
        "# word_index = tokenizer.word_index\n",
        "# print(len(word_index))\n",
        "# print(word_index)"
      ],
      "execution_count": null,
      "outputs": [
        {
          "output_type": "stream",
          "text": [
            "17\n",
            "{'<OOV>': 1, '포도': 2, '스시': 3, '김치': 4, '바나나': 5, '사과': 6, '짜장면': 7, '짬뽕': 8, '탕수육': 9, '볶음밥': 10, '라면': 11, '가츠동': 12, '소바': 13, '된장찌개': 14, '김치찌개': 15, '된장': 16, '비빔밥': 17}\n"
          ],
          "name": "stdout"
        }
      ]
    },
    {
      "cell_type": "markdown",
      "metadata": {
        "id": "mOio_ryGwgRS",
        "colab_type": "text"
      },
      "source": [
        "## 4번"
      ]
    },
    {
      "cell_type": "code",
      "metadata": {
        "id": "NIxp39ARwioZ",
        "colab_type": "code",
        "colab": {}
      },
      "source": [
        "from tensorflow.keras.preprocessing.sequence import pad_sequences\n",
        "from tensorflow.keras.layers import Embedding, LSTM, Dense, Dropout, Bidirectional\n",
        "from tensorflow.keras.preprocessing.text import Tokenizer\n",
        "from tensorflow.keras.models import Sequential\n",
        "from tensorflow.keras.optimizers import Adam\n",
        "from tensorflow.keras import regularizers\n",
        "import tensorflow.keras.utils as ku \n",
        "import numpy as np "
      ],
      "execution_count": null,
      "outputs": []
    },
    {
      "cell_type": "code",
      "metadata": {
        "id": "0YzfulHsxLlV",
        "colab_type": "code",
        "colab": {
          "base_uri": "https://localhost:8080/",
          "height": 229
        },
        "outputId": "19797883-1301-43b9-d6fb-bc5e993bca2e"
      },
      "source": [
        "!wget --no-check-certificate \\\n",
        "    https://storage.googleapis.com/laurencemoroney-blog.appspot.com/sonnets.txt \\\n",
        "    -O /tmp/sonnets.txt\n",
        "data = open('/tmp/sonnets.txt').read()\n",
        "\n",
        "corpus = data.lower().split(\"\\n\")"
      ],
      "execution_count": null,
      "outputs": [
        {
          "output_type": "stream",
          "text": [
            "--2020-08-26 12:36:14--  https://storage.googleapis.com/laurencemoroney-blog.appspot.com/sonnets.txt\n",
            "Resolving storage.googleapis.com (storage.googleapis.com)... 172.217.212.128, 172.217.214.128, 108.177.111.128, ...\n",
            "Connecting to storage.googleapis.com (storage.googleapis.com)|172.217.212.128|:443... connected.\n",
            "HTTP request sent, awaiting response... 200 OK\n",
            "Length: 93578 (91K) [text/plain]\n",
            "Saving to: ‘/tmp/sonnets.txt’\n",
            "\n",
            "\r/tmp/sonnets.txt      0%[                    ]       0  --.-KB/s               \r/tmp/sonnets.txt    100%[===================>]  91.38K  --.-KB/s    in 0.001s  \n",
            "\n",
            "2020-08-26 12:36:14 (109 MB/s) - ‘/tmp/sonnets.txt’ saved [93578/93578]\n",
            "\n"
          ],
          "name": "stdout"
        }
      ]
    },
    {
      "cell_type": "code",
      "metadata": {
        "id": "Y4QNQj6txNol",
        "colab_type": "code",
        "colab": {}
      },
      "source": [
        "tokenizer = Tokenizer()\n",
        "tokenizer.fit_on_texts(corpus)\n",
        "total_words = len(tokenizer.word_index) + 1\n",
        "\n",
        "input_sequences = []\n",
        "for line in corpus:\n",
        "  token_list = tokenizer.texts_to_sequences([line])[0]\n",
        "  for i in range(1, len(token_list)):\n",
        "    n_gram_sequence = token_list[:i+1]\n",
        "    input_sequences.append(n_gram_sequence)\n",
        "\n",
        "max_sequence_len = max([len(x) for x in input_sequences])\n",
        "input_sequences = np.array(pad_sequences(input_sequences, maxlen=max_sequence_len))"
      ],
      "execution_count": null,
      "outputs": []
    },
    {
      "cell_type": "code",
      "metadata": {
        "id": "kJWkT-tAxPMq",
        "colab_type": "code",
        "colab": {}
      },
      "source": [
        "xs, label = input_sequences[:, :-1], input_sequences[:, -1]\n",
        "label = ku.to_categorical(label, num_classes=total_words)"
      ],
      "execution_count": null,
      "outputs": []
    },
    {
      "cell_type": "code",
      "metadata": {
        "id": "UVWcv_OXxQum",
        "colab_type": "code",
        "colab": {
          "base_uri": "https://localhost:8080/",
          "height": 367
        },
        "outputId": "87e9f7e9-bd33-4ba5-de3f-20757ece1fb6"
      },
      "source": [
        "model = Sequential()\n",
        "model.add(Embedding(total_words, 100, input_length=max_sequence_len-1))\n",
        "model.add(Bidirectional(LSTM(150, return_sequences=True)))\n",
        "#Bidirectional(LSTM(150, return_sequences=True))\n",
        "model.add(Dropout(0.2))\n",
        "model.add(LSTM(100))\n",
        "model.add(Dense(total_words/2, activation='relu', kernel_regularizer=regularizers.l2(0.01)))\n",
        "model.add(Dense(total_words, activation='softmax'))\n",
        "#softmax\n",
        "model.compile(loss='categorical_crossentropy', optimizer='adam', metrics=['accuracy'])\n",
        "#categorical_crossentropy\n",
        "model.summary()"
      ],
      "execution_count": null,
      "outputs": [
        {
          "output_type": "stream",
          "text": [
            "Model: \"sequential_3\"\n",
            "_________________________________________________________________\n",
            "Layer (type)                 Output Shape              Param #   \n",
            "=================================================================\n",
            "embedding_3 (Embedding)      (None, 10, 100)           321100    \n",
            "_________________________________________________________________\n",
            "bidirectional_3 (Bidirection (None, 10, 300)           301200    \n",
            "_________________________________________________________________\n",
            "dropout_3 (Dropout)          (None, 10, 300)           0         \n",
            "_________________________________________________________________\n",
            "lstm_7 (LSTM)                (None, 100)               160400    \n",
            "_________________________________________________________________\n",
            "dense_6 (Dense)              (None, 1605)              162105    \n",
            "_________________________________________________________________\n",
            "dense_7 (Dense)              (None, 3211)              5156866   \n",
            "=================================================================\n",
            "Total params: 6,101,671\n",
            "Trainable params: 6,101,671\n",
            "Non-trainable params: 0\n",
            "_________________________________________________________________\n"
          ],
          "name": "stdout"
        }
      ]
    },
    {
      "cell_type": "code",
      "metadata": {
        "id": "44IyQDemxSFT",
        "colab_type": "code",
        "colab": {}
      },
      "source": [
        ""
      ],
      "execution_count": null,
      "outputs": []
    }
  ]
}